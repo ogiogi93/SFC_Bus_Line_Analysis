{
 "cells": [
  {
   "cell_type": "code",
   "execution_count": 1,
   "metadata": {
    "collapsed": true
   },
   "outputs": [],
   "source": [
    "%matplotlib inline"
   ]
  },
  {
   "cell_type": "code",
   "execution_count": 2,
   "metadata": {
    "collapsed": true
   },
   "outputs": [],
   "source": [
    "import numpy as np\n",
    "import pandas as pd\n",
    "import matplotlib\n",
    "import matplotlib.pyplot as plt\n",
    "import matplotlib.cm as cm\n",
    "import psycopg2\n",
    "import pandas.io.sql as psql\n",
    "import datetime\n",
    "from datetime import date"
   ]
  },
  {
   "cell_type": "code",
   "execution_count": 3,
   "metadata": {
    "collapsed": true
   },
   "outputs": [],
   "source": [
    "data = pd.read_csv('bus_line.csv')"
   ]
  },
  {
   "cell_type": "code",
   "execution_count": 5,
   "metadata": {
    "collapsed": true
   },
   "outputs": [],
   "source": [
    "data = data.drop('Unnamed: 0', axis=1)"
   ]
  },
  {
   "cell_type": "code",
   "execution_count": 7,
   "metadata": {
    "collapsed": false
   },
   "outputs": [
    {
     "data": {
      "text/html": [
       "<div style=\"max-height:1000px;max-width:1500px;overflow:auto;\">\n",
       "<table border=\"1\" class=\"dataframe\">\n",
       "  <thead>\n",
       "    <tr style=\"text-align: right;\">\n",
       "      <th></th>\n",
       "      <th>s_mac_address</th>\n",
       "      <th>s_ssid</th>\n",
       "      <th>s_created_at</th>\n",
       "      <th>s_rssi</th>\n",
       "      <th>s_sensor_id</th>\n",
       "      <th>date</th>\n",
       "    </tr>\n",
       "  </thead>\n",
       "  <tbody>\n",
       "    <tr>\n",
       "      <th>0</th>\n",
       "      <td> cf4cfaa9b70a52bbfbaa5b52846547e8ee4d5a5885ef92...</td>\n",
       "      <td>    NaN</td>\n",
       "      <td> 2016-07-02 15:10:11</td>\n",
       "      <td>-79</td>\n",
       "      <td> 1</td>\n",
       "      <td> 2016-07-02</td>\n",
       "    </tr>\n",
       "    <tr>\n",
       "      <th>1</th>\n",
       "      <td> 645491814dfdc193ed47537317b16bfd5c54b20ca12fa6...</td>\n",
       "      <td> iPhone</td>\n",
       "      <td> 2016-07-02 15:10:11</td>\n",
       "      <td>-87</td>\n",
       "      <td> 1</td>\n",
       "      <td> 2016-07-02</td>\n",
       "    </tr>\n",
       "    <tr>\n",
       "      <th>2</th>\n",
       "      <td> 645491814dfdc193ed47537317b16bfd5c54b20ca12fa6...</td>\n",
       "      <td>   KTWF</td>\n",
       "      <td> 2016-07-02 15:10:11</td>\n",
       "      <td>-87</td>\n",
       "      <td> 1</td>\n",
       "      <td> 2016-07-02</td>\n",
       "    </tr>\n",
       "  </tbody>\n",
       "</table>\n",
       "</div>"
      ],
      "text/plain": [
       "                                       s_mac_address  s_ssid  \\\n",
       "0  cf4cfaa9b70a52bbfbaa5b52846547e8ee4d5a5885ef92...     NaN   \n",
       "1  645491814dfdc193ed47537317b16bfd5c54b20ca12fa6...  iPhone   \n",
       "2  645491814dfdc193ed47537317b16bfd5c54b20ca12fa6...    KTWF   \n",
       "\n",
       "          s_created_at  s_rssi  s_sensor_id        date  \n",
       "0  2016-07-02 15:10:11     -79            1  2016-07-02  \n",
       "1  2016-07-02 15:10:11     -87            1  2016-07-02  \n",
       "2  2016-07-02 15:10:11     -87            1  2016-07-02  "
      ]
     },
     "execution_count": 7,
     "metadata": {},
     "output_type": "execute_result"
    }
   ],
   "source": [
    "data.head(3)"
   ]
  },
  {
   "cell_type": "code",
   "execution_count": 8,
   "metadata": {
    "collapsed": false
   },
   "outputs": [
    {
     "data": {
      "text/plain": [
       "(315039, 6)"
      ]
     },
     "execution_count": 8,
     "metadata": {},
     "output_type": "execute_result"
    }
   ],
   "source": [
    "data.shape"
   ]
  },
  {
   "cell_type": "code",
   "execution_count": 48,
   "metadata": {
    "collapsed": true
   },
   "outputs": [],
   "source": [
    "data = data.fillna('')\n",
    "data['s_created_at'] = pd.to_datetime(data['s_created_at'])"
   ]
  },
  {
   "cell_type": "markdown",
   "metadata": {},
   "source": [
    "### RSSI値に応じて検出範囲を絞る（一般的には「-25 ~ -80」位が利用されている）、この条件を変更することで推定人数が変動する "
   ]
  },
  {
   "cell_type": "code",
   "execution_count": 63,
   "metadata": {
    "collapsed": true
   },
   "outputs": [],
   "source": [
    "data = data[(data['s_rssi'] <= -25) & (data['s_rssi'] >= -80)]"
   ]
  },
  {
   "cell_type": "markdown",
   "metadata": {},
   "source": [
    "## sensor_id と設置場所を紐付ける "
   ]
  },
  {
   "cell_type": "code",
   "execution_count": 64,
   "metadata": {
    "collapsed": false
   },
   "outputs": [],
   "source": [
    "location_list = pd.DataFrame(\n",
    "    {'s_sensor_id':[1, 2, 3, 4, 1, 2, 3, 4],\n",
    "     'date': ['2016-06-25', '2016-06-25', '2016-06-25', '2016-06-25', '2016-07-02', '2016-07-02', '2016-07-02', '2016-07-02'],\n",
    "     'location_name': ['バス停慶応大学前', 'バス停慶応大学本館前', 'バス停慶応大学前-SFC', 'Subway', 'バス停慶応大学前', '広場', 'バス停慶応大学前-SFC', 'Subway']}\n",
    ")"
   ]
  },
  {
   "cell_type": "code",
   "execution_count": 65,
   "metadata": {
    "collapsed": true
   },
   "outputs": [],
   "source": [
    "data_with_location = pd.merge(data, location_list, left_on=['s_sensor_id', 'date'], right_on=['s_sensor_id', 'date'], how='inner')"
   ]
  },
  {
   "cell_type": "markdown",
   "metadata": {},
   "source": [
    "## 分析例: 七夕祭時の各バス行列人数を推定する "
   ]
  },
  {
   "cell_type": "markdown",
   "metadata": {},
   "source": [
    "## 時刻表データをロードする "
   ]
  },
  {
   "cell_type": "code",
   "execution_count": 66,
   "metadata": {
    "collapsed": false
   },
   "outputs": [],
   "source": [
    "time_table = pd.read_csv('bus_timetable.csv')"
   ]
  },
  {
   "cell_type": "code",
   "execution_count": 67,
   "metadata": {
    "collapsed": false
   },
   "outputs": [
    {
     "data": {
      "text/html": [
       "<div style=\"max-height:1000px;max-width:1500px;overflow:auto;\">\n",
       "<table border=\"1\" class=\"dataframe\">\n",
       "  <thead>\n",
       "    <tr style=\"text-align: right;\">\n",
       "      <th></th>\n",
       "      <th>dep_time</th>\n",
       "      <th>dest</th>\n",
       "      <th>type</th>\n",
       "      <th>seat_num</th>\n",
       "      <th> max_num</th>\n",
       "    </tr>\n",
       "  </thead>\n",
       "  <tbody>\n",
       "    <tr>\n",
       "      <th>0</th>\n",
       "      <td> 7:00</td>\n",
       "      <td> shonandai</td>\n",
       "      <td> TwinLiner</td>\n",
       "      <td> 45</td>\n",
       "      <td> 100</td>\n",
       "    </tr>\n",
       "    <tr>\n",
       "      <th>1</th>\n",
       "      <td> 7:05</td>\n",
       "      <td> shonandai</td>\n",
       "      <td>    detour</td>\n",
       "      <td> 28</td>\n",
       "      <td>  56</td>\n",
       "    </tr>\n",
       "    <tr>\n",
       "      <th>2</th>\n",
       "      <td> 7:15</td>\n",
       "      <td> shonandai</td>\n",
       "      <td> TwinLiner</td>\n",
       "      <td> 45</td>\n",
       "      <td> 100</td>\n",
       "    </tr>\n",
       "  </tbody>\n",
       "</table>\n",
       "</div>"
      ],
      "text/plain": [
       "  dep_time       dest       type  seat_num   max_num\n",
       "0     7:00  shonandai  TwinLiner        45       100\n",
       "1     7:05  shonandai     detour        28        56\n",
       "2     7:15  shonandai  TwinLiner        45       100"
      ]
     },
     "execution_count": 67,
     "metadata": {},
     "output_type": "execute_result"
    }
   ],
   "source": [
    "time_table.head(3)"
   ]
  },
  {
   "cell_type": "markdown",
   "metadata": {},
   "source": [
    "## 湘南台行きの行列を推定するため、フィルタリングする "
   ]
  },
  {
   "cell_type": "code",
   "execution_count": 68,
   "metadata": {
    "collapsed": true
   },
   "outputs": [],
   "source": [
    "time_table = time_table[time_table['dest'] == 'shonandai'].reset_index(drop=True)"
   ]
  },
  {
   "cell_type": "code",
   "execution_count": 69,
   "metadata": {
    "collapsed": false
   },
   "outputs": [],
   "source": [
    "time_table['dep_time'] = pd.to_datetime(time_table['dep_time'])"
   ]
  },
  {
   "cell_type": "markdown",
   "metadata": {},
   "source": [
    "## 七夕祭当日かつバス停前のセンサデータを抽出する。またSSIDがbroadcastのデータは人々が持つ端末から放出された可能性が最も高いため、 SSIDが空のデータを抽出する"
   ]
  },
  {
   "cell_type": "code",
   "execution_count": 70,
   "metadata": {
    "collapsed": false
   },
   "outputs": [],
   "source": [
    "bus_line = data_with_location[(data_with_location['s_sensor_id'] == 1) & (data_with_location[\"s_ssid\"] == '') & (data_with_location['date'] == '2016-07-02')]\n",
    "bus_line = bus_line.reset_index(drop=True)"
   ]
  },
  {
   "cell_type": "code",
   "execution_count": 71,
   "metadata": {
    "collapsed": false
   },
   "outputs": [
    {
     "data": {
      "text/plain": [
       "(16070, 7)"
      ]
     },
     "execution_count": 71,
     "metadata": {},
     "output_type": "execute_result"
    }
   ],
   "source": [
    "bus_line.shape"
   ]
  },
  {
   "cell_type": "markdown",
   "metadata": {},
   "source": [
    "### 乗車予定バスの出発時間を追加する "
   ]
  },
  {
   "cell_type": "code",
   "execution_count": 72,
   "metadata": {
    "collapsed": false
   },
   "outputs": [],
   "source": [
    "global t\n",
    "t = time_table\n",
    "def add_bus_interval(d):\n",
    "    for i in range(len(t)):\n",
    "        if i < t.shape[0] - 1:\n",
    "            start = t['dep_time'].ix[i].time()\n",
    "            end = t['dep_time'].ix[i+1].time()\n",
    "\n",
    "            if start <= d.time() and end  >= d.time():\n",
    "                return t['dep_time'].ix[i+1]\n",
    "        else:\n",
    "            return None\n",
    "bus_line['ride_bus_time'] = bus_line['s_created_at'].apply(add_bus_interval)"
   ]
  },
  {
   "cell_type": "code",
   "execution_count": 73,
   "metadata": {
    "collapsed": false
   },
   "outputs": [
    {
     "data": {
      "text/html": [
       "<div style=\"max-height:1000px;max-width:1500px;overflow:auto;\">\n",
       "<table border=\"1\" class=\"dataframe\">\n",
       "  <thead>\n",
       "    <tr style=\"text-align: right;\">\n",
       "      <th></th>\n",
       "      <th>s_mac_address</th>\n",
       "      <th>s_ssid</th>\n",
       "      <th>s_created_at</th>\n",
       "      <th>s_rssi</th>\n",
       "      <th>s_sensor_id</th>\n",
       "      <th>date</th>\n",
       "      <th>location_name</th>\n",
       "      <th>ride_bus_time</th>\n",
       "    </tr>\n",
       "  </thead>\n",
       "  <tbody>\n",
       "    <tr>\n",
       "      <th>0</th>\n",
       "      <td> cf4cfaa9b70a52bbfbaa5b52846547e8ee4d5a5885ef92...</td>\n",
       "      <td> </td>\n",
       "      <td>2016-07-02 15:10:11</td>\n",
       "      <td>-79</td>\n",
       "      <td> 1</td>\n",
       "      <td> 2016-07-02</td>\n",
       "      <td> バス停慶応大学前</td>\n",
       "      <td>2016-07-30 15:11:00</td>\n",
       "    </tr>\n",
       "    <tr>\n",
       "      <th>1</th>\n",
       "      <td> 046e85dae9a11d22917df992b341db3e1513f25f8d2bbc...</td>\n",
       "      <td> </td>\n",
       "      <td>2016-07-02 15:10:19</td>\n",
       "      <td>-73</td>\n",
       "      <td> 1</td>\n",
       "      <td> 2016-07-02</td>\n",
       "      <td> バス停慶応大学前</td>\n",
       "      <td>2016-07-30 15:11:00</td>\n",
       "    </tr>\n",
       "    <tr>\n",
       "      <th>2</th>\n",
       "      <td> 046e85dae9a11d22917df992b341db3e1513f25f8d2bbc...</td>\n",
       "      <td> </td>\n",
       "      <td>2016-07-02 15:10:19</td>\n",
       "      <td>-75</td>\n",
       "      <td> 1</td>\n",
       "      <td> 2016-07-02</td>\n",
       "      <td> バス停慶応大学前</td>\n",
       "      <td>2016-07-30 15:11:00</td>\n",
       "    </tr>\n",
       "  </tbody>\n",
       "</table>\n",
       "</div>"
      ],
      "text/plain": [
       "                                       s_mac_address s_ssid  \\\n",
       "0  cf4cfaa9b70a52bbfbaa5b52846547e8ee4d5a5885ef92...          \n",
       "1  046e85dae9a11d22917df992b341db3e1513f25f8d2bbc...          \n",
       "2  046e85dae9a11d22917df992b341db3e1513f25f8d2bbc...          \n",
       "\n",
       "         s_created_at  s_rssi  s_sensor_id        date location_name  \\\n",
       "0 2016-07-02 15:10:11     -79            1  2016-07-02      バス停慶応大学前   \n",
       "1 2016-07-02 15:10:19     -73            1  2016-07-02      バス停慶応大学前   \n",
       "2 2016-07-02 15:10:19     -75            1  2016-07-02      バス停慶応大学前   \n",
       "\n",
       "        ride_bus_time  \n",
       "0 2016-07-30 15:11:00  \n",
       "1 2016-07-30 15:11:00  \n",
       "2 2016-07-30 15:11:00  "
      ]
     },
     "execution_count": 73,
     "metadata": {},
     "output_type": "execute_result"
    }
   ],
   "source": [
    "bus_line.head(3)"
   ]
  },
  {
   "cell_type": "code",
   "execution_count": 74,
   "metadata": {
    "collapsed": false
   },
   "outputs": [],
   "source": [
    "mobile_list = bus_line.groupby(['s_mac_address', 'ride_bus_time']).count().reset_index()\n",
    "bus_count = mobile_list.groupby(['ride_bus_time']).count().reset_index()\n",
    "\n",
    "bus_count2 = bus_count[['ride_bus_time', 's_mac_address']]\n",
    "bus_count2.columns = ['dep_time', 'count']"
   ]
  },
  {
   "cell_type": "code",
   "execution_count": 83,
   "metadata": {
    "collapsed": false
   },
   "outputs": [
    {
     "data": {
      "text/html": [
       "<div style=\"max-height:1000px;max-width:1500px;overflow:auto;\">\n",
       "<table border=\"1\" class=\"dataframe\">\n",
       "  <thead>\n",
       "    <tr style=\"text-align: right;\">\n",
       "      <th></th>\n",
       "      <th>dep_time</th>\n",
       "      <th>count</th>\n",
       "    </tr>\n",
       "  </thead>\n",
       "  <tbody>\n",
       "    <tr>\n",
       "      <th>0</th>\n",
       "      <td>2016-07-30 10:00:00</td>\n",
       "      <td> 18</td>\n",
       "    </tr>\n",
       "    <tr>\n",
       "      <th>1</th>\n",
       "      <td>2016-07-30 10:10:00</td>\n",
       "      <td>  4</td>\n",
       "    </tr>\n",
       "    <tr>\n",
       "      <th>2</th>\n",
       "      <td>2016-07-30 10:23:00</td>\n",
       "      <td>  9</td>\n",
       "    </tr>\n",
       "  </tbody>\n",
       "</table>\n",
       "</div>"
      ],
      "text/plain": [
       "             dep_time  count\n",
       "0 2016-07-30 10:00:00     18\n",
       "1 2016-07-30 10:10:00      4\n",
       "2 2016-07-30 10:23:00      9"
      ]
     },
     "execution_count": 83,
     "metadata": {},
     "output_type": "execute_result"
    }
   ],
   "source": [
    "bus_count2.head(3)"
   ]
  },
  {
   "cell_type": "code",
   "execution_count": 87,
   "metadata": {
    "collapsed": true
   },
   "outputs": [],
   "source": [
    "def add_time(t):\n",
    "    return t.time()\n",
    "bus_count2['time'] = bus_count2['dep_time'].apply(add_time)"
   ]
  },
  {
   "cell_type": "code",
   "execution_count": 92,
   "metadata": {
    "collapsed": false
   },
   "outputs": [
    {
     "data": {
      "text/plain": [
       "[<matplotlib.lines.Line2D at 0x1101f4250>]"
      ]
     },
     "execution_count": 92,
     "metadata": {},
     "output_type": "execute_result"
    },
    {
     "data": {
      "image/png": "[encoded data removed]",
      "text/plain": [
       "<matplotlib.figure.Figure at 0x110086e50>"
      ]
     },
     "metadata": {},
     "output_type": "display_data"
    }
   ],
   "source": [
    "import seaborn as sns\n",
    "\n",
    "plt.figure(figsize=(10, 5))\n",
    "sns.set(style=\"ticks\")\n",
    "\n",
    "plt.ylabel('Number of People')\n",
    "plt.xlabel('Departure Time')\n",
    "plt.plot(bus_count2[\"time\"], bus_count2[\"count\"])"
   ]
  },
  {
   "cell_type": "code",
   "execution_count": null,
   "metadata": {
    "collapsed": true
   },
   "outputs": [],
   "source": []
  }
 ],
 "metadata": {
  "kernelspec": {
   "display_name": "Python 2",
   "language": "python",
   "name": "python2"
  },
  "language_info": {
   "codemirror_mode": {
    "name": "ipython",
    "version": 2
   },
   "file_extension": ".py",
   "mimetype": "text/x-python",
   "name": "python",
   "nbconvert_exporter": "python",
   "pygments_lexer": "ipython2",
   "version": "2.7.10"
  }
 },
 "nbformat": 4,
 "nbformat_minor": 0
}
